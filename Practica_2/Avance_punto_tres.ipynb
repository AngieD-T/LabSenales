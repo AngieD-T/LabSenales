{
  "nbformat": 4,
  "nbformat_minor": 0,
  "metadata": {
    "colab": {
      "provenance": []
    },
    "kernelspec": {
      "name": "python3",
      "display_name": "Python 3"
    },
    "language_info": {
      "name": "python"
    }
  },
  "cells": [
    {
      "cell_type": "markdown",
      "source": [
        "# Practica #2\n",
        "\n",
        "Juan Esteban Campillo Zuluaga\n",
        "\n",
        "Angie Dayana Tovar Bohorquez\n",
        "\n",
        "Catalina Guerra Fernandez"
      ],
      "metadata": {
        "id": "blkd-BlZCuFs"
      }
    },
    {
      "cell_type": "markdown",
      "source": [
        "## Importacion librerías"
      ],
      "metadata": {
        "id": "ey8rosyvC1Za"
      }
    },
    {
      "cell_type": "code",
      "execution_count": null,
      "metadata": {
        "id": "X7zy1RbQ-2fK"
      },
      "outputs": [],
      "source": [
        "import numpy as np\n",
        "import matplotlib.pyplot as plt"
      ]
    },
    {
      "cell_type": "code",
      "source": [
        "def impseq(n0, n1, n2):\n",
        " n = np.arange(n1,n2+1)\n",
        " x = ((n-n0) == 0).astype(int)\n",
        " return [x,n]\n",
        "\n",
        "q = impseq(4, 1, 6)[0]"
      ],
      "metadata": {
        "id": "ISLgrIyeF_5g"
      },
      "execution_count": null,
      "outputs": []
    },
    {
      "cell_type": "markdown",
      "source": [
        "## Primer Punto"
      ],
      "metadata": {
        "id": "CfIVjQAtGEN5"
      }
    },
    {
      "cell_type": "code",
      "source": [
        "def EscalonUnitario(n0, n1, n2):\n",
        " n = np.arange(n1,n2+1)\n",
        " x = (n >= n0).astype(int)\n",
        " return [x,n]\n",
        "\n",
        "x, n = EscalonUnitario(4, 1, 6)"
      ],
      "metadata": {
        "id": "rSR6T1HVGXrI"
      },
      "execution_count": null,
      "outputs": []
    },
    {
      "cell_type": "markdown",
      "source": [
        "## Segundo Punto"
      ],
      "metadata": {
        "id": "INL1mUnBGaPP"
      }
    },
    {
      "cell_type": "code",
      "source": [
        "def Rampa(n0, n1, n2):\n",
        " n = np.arange(n1,n2+1)\n",
        " x = np.where(n >= n0, n - n0,0)\n",
        " return [x,n]\n",
        "\n",
        "x, n = Rampa(5, 1, 10)"
      ],
      "metadata": {
        "id": "TmQ-HUkyGf2H"
      },
      "execution_count": null,
      "outputs": []
    },
    {
      "cell_type": "markdown",
      "source": [
        "## Tercer Punto"
      ],
      "metadata": {
        "id": "QP9ATZv5GizQ"
      }
    },
    {
      "cell_type": "markdown",
      "source": [],
      "metadata": {
        "id": "5qse7sQrGq-g"
      }
    },
    {
      "cell_type": "markdown",
      "source": [
        "Item a"
      ],
      "metadata": {
        "id": "Lo7HFQKhJ563"
      }
    },
    {
      "cell_type": "code",
      "source": [
        "n1 = -5\n",
        "n2 = 1\n",
        "\n",
        "PrimerI = impseq(-1, n1, n2)[0]\n",
        "SegundoI = impseq(-3, n1, n2)[0]\n",
        "TercerI = impseq(-2, n1, n2)[0]\n",
        "CuartoI = impseq(0, n1, n2)[0]\n",
        "QuintoI = impseq(0, n1, n2)[0]\n",
        "\n",
        "x1 = 3*PrimerI + 5*SegundoI + 3*TercerI + 3*CuartoI + QuintoI\n",
        "\n",
        "nt = impseq(-1,-5,1)[1]\n",
        "\n",
        "plt.stem(nt,x1)\n",
        "plt.title('Función x1')\n",
        "plt.xlabel('n')\n",
        "plt.ylabel('x1[n]')\n",
        "plt.grid()\n",
        "plt.show()"
      ],
      "metadata": {
        "id": "CjibizRpJ-GX"
      },
      "execution_count": null,
      "outputs": []
    },
    {
      "cell_type": "markdown",
      "source": [
        "Item b"
      ],
      "metadata": {
        "id": "zAFkRq7NKANX"
      }
    },
    {
      "cell_type": "code",
      "source": [
        "#𝑥2(𝑛) = -2u(𝑛 - 4) + 3u(𝑛 - 2)\n",
        "\n",
        "n1 = -6\n",
        "n2 = 6\n",
        "\n",
        "PrimerI = EscalonUnitario(4, n1, n2)[0]\n",
        "SegundoI = EscalonUnitario(2, n1, n2)[0]\n",
        "\n",
        "x2 = -2*PrimerI + 3*SegundoI\n",
        "\n",
        "nt2 = EscalonUnitario(4,-6,6)[1]\n",
        "\n",
        "plt.stem(nt2,x2)\n",
        "plt.title('Función x2')\n",
        "plt.xlabel('n')\n",
        "plt.ylabel('x2[n]')\n",
        "plt.grid()\n",
        "plt.show()"
      ],
      "metadata": {
        "id": "WxcvJiWXKETX"
      },
      "execution_count": null,
      "outputs": []
    },
    {
      "cell_type": "markdown",
      "source": [
        "Item C"
      ],
      "metadata": {
        "id": "Mze9l3VkKGRZ"
      }
    },
    {
      "cell_type": "code",
      "source": [
        "#x3 = e(0.01)n * sin(2pin)\n",
        "\n",
        "n1 = 0\n",
        "n2 = 100\n",
        "ne = np.arange(n1,n2+1)\n",
        "e = np.exp(0.01*ne)\n",
        "seno = np.sin(2*np.pi*ne)\n",
        "\n",
        "x3 = e * seno\n",
        "\n",
        "plt.plot(ne,x3)\n",
        "plt.title('Función x3')\n",
        "plt.xlabel('n')\n",
        "plt.ylabel('x3[n]')\n",
        "plt.grid()\n",
        "plt.show()"
      ],
      "metadata": {
        "id": "VkobXIw2KIWm"
      },
      "execution_count": null,
      "outputs": []
    },
    {
      "cell_type": "markdown",
      "source": [
        "Item d"
      ],
      "metadata": {
        "id": "CuLPqqKsKLye"
      }
    },
    {
      "cell_type": "code",
      "source": [
        "#x4(𝑛) = 2𝑟(𝑛 + 3) − 𝑟(𝑛 − 2) − 5𝑢(𝑛 − 3), −10 ≤ 𝑛 ≤ 10\n",
        "\n",
        "n1 = -10\n",
        "n2 = 10\n",
        "\n",
        "PrimerI = Rampa(-3, n1, n2)[0]\n",
        "SegundoI = Rampa(2, n1, n2)[0]\n",
        "TercerI = EscalonUnitario(3, n1, n2)[0]\n",
        "\n",
        "x4 = 2*PrimerI - SegundoI - 5*TercerI\n",
        "\n",
        "nt4 = Rampa(-3,-10,10)[1]\n",
        "\n",
        "plt.stem(nt4,x4)\n",
        "plt.title('Función x4')\n",
        "plt.xlabel('n')\n",
        "plt.ylabel('x4[n]')\n",
        "plt.grid()\n",
        "plt.show()"
      ],
      "metadata": {
        "id": "pzUFIkijKNFA"
      },
      "execution_count": null,
      "outputs": []
    }
  ]
}