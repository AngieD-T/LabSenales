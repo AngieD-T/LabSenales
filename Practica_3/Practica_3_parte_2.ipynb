{
  "cells": [
    {
      "cell_type": "markdown",
      "source": [
        "# **Practica #3 - Segunda Parte**\n",
        "\n",
        "Juan Esteban Campillo Zuluaga\n",
        "\n",
        "Angie Dayana Tovar Bohorquez\n",
        "\n",
        "Catalina Guerra Fernandez"
      ],
      "metadata": {
        "id": "-n-_wVwRgDCQ"
      }
    },
    {
      "cell_type": "markdown",
      "metadata": {
        "id": "7xhm4r-Udp8s"
      },
      "source": [
        "#### **Carga de las señales**"
      ]
    },
    {
      "cell_type": "code",
      "execution_count": null,
      "metadata": {
        "colab": {
          "base_uri": "https://localhost:8080/"
        },
        "id": "Gdt-B_BQTBH4",
        "outputId": "72929cfb-777c-49ac-e487-7879e68cf18b"
      },
      "outputs": [
        {
          "output_type": "stream",
          "name": "stdout",
          "text": [
            "Mounted at /content/drive\n"
          ]
        }
      ],
      "source": [
        "from google.colab import drive\n",
        "drive.mount('/content/drive')"
      ]
    },
    {
      "cell_type": "markdown",
      "source": [
        "####**Importación librerias**"
      ],
      "metadata": {
        "id": "UJCnOI3igfE-"
      }
    },
    {
      "cell_type": "code",
      "execution_count": null,
      "metadata": {
        "id": "a-W4yVwyLUwd"
      },
      "outputs": [],
      "source": [
        "#librerias convencionales\n",
        "from scipy.fftpack import fft;\n",
        "import matplotlib.pyplot as plt;\n",
        "import numpy as np;\n",
        "import scipy.io as sio;\n",
        "import numpy as np;\n",
        "import matplotlib.pyplot as plt\n",
        "import pandas as pd\n",
        "from scipy import stats"
      ]
    },
    {
      "cell_type": "code",
      "execution_count": null,
      "metadata": {
        "colab": {
          "base_uri": "https://localhost:8080/"
        },
        "id": "mP2FhP7AVw2x",
        "outputId": "5ee9b1fb-8010-452f-f8eb-4d64a90a3676"
      },
      "outputs": [
        {
          "output_type": "stream",
          "name": "stdout",
          "text": [
            "Archive:  datos_senales_datos_parkinson_cursos.zip\n",
            "   creating: control/\n",
            "  inflating: control/C001R_EP_reposo.mat  \n",
            "  inflating: control/C002_EP_reposo.mat  \n",
            "  inflating: control/C004_EP_reposo.mat  \n",
            "  inflating: control/C005_EP_reposo_Repetido.mat  \n",
            "  inflating: control/C006_EP_reposo.mat  \n",
            "  inflating: control/C007_EP_reposo.mat  \n",
            "  inflating: control/C010_EP_reposo.mat  \n",
            "  inflating: control/C011_EP_reposo.mat  \n",
            "  inflating: control/C012_EP_reposo.mat  \n",
            "  inflating: control/C013_EP_reposo.mat  \n",
            "  inflating: control/C015_EP_reposo.mat  \n",
            "  inflating: control/C018_EP_reposo.mat  \n",
            "  inflating: control/C019_EP_reposo.mat  \n",
            "  inflating: control/C020_EP_reposo.mat  \n",
            "  inflating: control/C021_EP_reposo.mat  \n",
            "  inflating: control/C023_EP_reposo.mat  \n",
            "  inflating: control/C024_EP_reposo.mat  \n",
            "  inflating: control/C025_EP_reposo.mat  \n",
            "  inflating: control/C026_EP_reposo.mat  \n",
            "  inflating: control/C027_EP_reposo.mat  \n",
            "  inflating: control/C028_EP_reposo.mat  \n",
            "  inflating: control/C029_EP_reposo.mat  \n",
            "  inflating: control/C030_EP_reposo.mat  \n",
            "  inflating: control/C031_EP_reposo.mat  \n",
            "  inflating: control/C032_EP_reposo.mat  \n",
            "  inflating: control/C033R_EP_reposo.mat  \n",
            "  inflating: control/C034_EP_reposo.mat  \n",
            "  inflating: control/C036_EP_reposo.mat  \n",
            "  inflating: control/C037_EP_reposo.mat  \n",
            "  inflating: control/C040_EP_reposo.mat  \n",
            "  inflating: control/C041_EP_reposo.mat  \n",
            "  inflating: control/C042_EP_reposo.mat  \n",
            "  inflating: control/C044_EP_reposo.mat  \n",
            "  inflating: control/C045_EP_reposo.mat  \n",
            "  inflating: control/C046_EP_reposo.mat  \n",
            "  inflating: control/C049_EP_reposo.mat  \n",
            "   creating: parkinson/\n",
            "  inflating: parkinson/P001_EP_reposo.mat  \n",
            "  inflating: parkinson/P004_EP_reposo.mat  \n",
            "  inflating: parkinson/P005_EP_reposo.mat  \n",
            "  inflating: parkinson/P007_EP_reposo.mat  \n",
            "  inflating: parkinson/P012_EP_reposo.mat  \n",
            "  inflating: parkinson/P013_EP_reposo.mat  \n",
            "  inflating: parkinson/P015_EP_reposo.mat  \n",
            "  inflating: parkinson/P016_EP_reposo.mat  \n",
            "  inflating: parkinson/P017_EP_reposo.mat  \n",
            "  inflating: parkinson/P018_EP_reposo.mat  \n",
            "  inflating: parkinson/P020_EP_reposo.mat  \n",
            "  inflating: parkinson/P025_EP_reposo.mat  \n",
            "  inflating: parkinson/P026_EP_reposo.mat  \n",
            "  inflating: parkinson/P028_EP_reposo.mat  \n",
            "  inflating: parkinson/P030_EP_reposo.mat  \n",
            "  inflating: parkinson/P032_EP_reposo.mat  \n",
            "  inflating: parkinson/P033_EP_reposo.mat  \n",
            "  inflating: parkinson/P034_EP_reposo.mat  \n",
            "  inflating: parkinson/P040_EP_reposo.mat  \n",
            "  inflating: parkinson/P041_EP_reposo.mat  \n",
            "  inflating: parkinson/P046_EP_reposo.mat  \n",
            "  inflating: parkinson/P048_EP_reposo.mat  \n",
            "  inflating: parkinson/P049_EP_reposo.mat  \n"
          ]
        }
      ],
      "source": [
        "!cp /content/drive/MyDrive/datos_senales_datos_parkinson_cursos.zip .\n",
        "!unzip datos_senales_datos_parkinson_cursos.zip"
      ]
    },
    {
      "cell_type": "code",
      "execution_count": null,
      "metadata": {
        "id": "BSXmV_uyqSaB"
      },
      "outputs": [],
      "source": [
        "import os\n",
        "directorio_actual=os.getcwd()\n"
      ]
    },
    {
      "cell_type": "code",
      "execution_count": null,
      "metadata": {
        "id": "DYpbB4Q0q3Jg"
      },
      "outputs": [],
      "source": [
        "archivos=os.listdir(directorio_actual + \"/control\")\n"
      ]
    },
    {
      "cell_type": "code",
      "execution_count": null,
      "metadata": {
        "id": "fYT7-cdkbq7O"
      },
      "outputs": [],
      "source": [
        "#ruta de un archivo\n",
        "path_subjecti=(directorio_actual + \"/control\" + \"/\" + archivos[0])\n",
        "#1 CARGAR EL ARCHIVO\n",
        "data = sio.loadmat(path_subjecti)\n",
        "data=data['data']"
      ]
    },
    {
      "cell_type": "markdown",
      "source": [
        "####**Punto 1**"
      ],
      "metadata": {
        "id": "-xoRXzvx6tAf"
      }
    },
    {
      "cell_type": "code",
      "source": [
        "def energia_promedio(signal):\n",
        "  canales, puntos, epocas = signal.shape\n",
        "\n",
        "  energias_epoca = np.sum(signal**2, axis=1)\n",
        "  energias_promedio = np.mean(energias_epoca, axis=1)\n",
        "\n",
        "  return energias_promedio"
      ],
      "metadata": {
        "id": "ZE2rC_Z7Yfh7"
      },
      "execution_count": null,
      "outputs": []
    },
    {
      "cell_type": "markdown",
      "source": [
        "####**Punto 2**"
      ],
      "metadata": {
        "id": "i2YAF12-6o0b"
      }
    },
    {
      "cell_type": "code",
      "source": [
        "import os\n",
        "\n",
        "directorio_actual=os.getcwd();\n",
        "\n",
        "#listando los archivos en el directorio\n",
        "archivos=os.listdir(directorio_actual + \"/control\")\n",
        "sujetos_sanos = np.array([0,0,0,0,0,0,0,0])\n",
        "sujetos_parkinson = np.array([0,0,0,0,0,0,0,0])\n",
        "\n",
        "for i in range(0,len(archivos)):\n",
        "    #ruta de un archivo\n",
        "    sujetoi=(directorio_actual + \"/control\" + \"/\" + archivos[i]);\n",
        "\n",
        "    data = sio.loadmat(sujetoi);\n",
        "    data = data[\"data\"];\n",
        "    sujetos_sanos = np.vstack([sujetos_sanos,energia_promedio(data)])\n",
        "\n",
        "archivos=os.listdir(directorio_actual + \"/parkinson\")\n",
        "\n",
        "for i in range(0,len(archivos)):\n",
        "    #ruta de un archivo\n",
        "    sujetoi=(directorio_actual + \"/parkinson\" + \"/\" + archivos[i]);\n",
        "\n",
        "    data = sio.loadmat(sujetoi);\n",
        "    data = data[\"data\"];\n",
        "    sujetos_parkinson = np.vstack([sujetos_parkinson,energia_promedio(data)])\n",
        "\n",
        "sujetos_sanos = sujetos_sanos[1:, :]\n",
        "sujetos_parkinson = sujetos_parkinson[1:, :]\n"
      ],
      "metadata": {
        "id": "fxmdFiEmT-vE"
      },
      "execution_count": null,
      "outputs": []
    },
    {
      "cell_type": "markdown",
      "source": [
        "**2.1. DataFrame sujetos sanos**\n"
      ],
      "metadata": {
        "id": "XS-u_HDDiYG2"
      }
    },
    {
      "cell_type": "code",
      "source": [
        "indices = [f'Paciente {i}' for i in range(1, 37)]\n",
        "\n",
        "df_control = pd.DataFrame(sujetos_sanos, columns=[f'CANAL {i}' for i in range(1, 9)], index = indices)\n",
        "\n",
        "# Mostrar el DataFrame\n",
        "print(df_control)"
      ],
      "metadata": {
        "colab": {
          "base_uri": "https://localhost:8080/"
        },
        "id": "p5qbvcfS5CJH",
        "outputId": "f3d35afa-01ae-4214-c002-0d75dbf38799"
      },
      "execution_count": null,
      "outputs": [
        {
          "output_type": "stream",
          "name": "stdout",
          "text": [
            "                  CANAL 1       CANAL 2       CANAL 3       CANAL 4  \\\n",
            "Paciente 1   10717.179591   8678.364937   2837.929418   4247.197699   \n",
            "Paciente 2   31250.507507  24222.776323  28298.111428  25378.777621   \n",
            "Paciente 3   14798.253355  25379.940073  14356.020122  12288.656607   \n",
            "Paciente 4   21465.650358  20985.907912  22760.149588  18505.640284   \n",
            "Paciente 5   54139.262123  49105.618777  53194.129654  57224.244039   \n",
            "Paciente 6    9133.036290   9214.155028  11626.411811  10809.621612   \n",
            "Paciente 7   11419.720480  13899.308168  15693.423491   9310.798253   \n",
            "Paciente 8   16525.863562  18074.712395  25064.807854  22946.351737   \n",
            "Paciente 9   25807.598672  31148.334573  28640.385345  21025.777687   \n",
            "Paciente 10  11840.210442  26452.547613  15211.335701  12976.758727   \n",
            "Paciente 11  18510.829979  19738.489375  20911.792748  21828.254399   \n",
            "Paciente 12  11920.628977  12381.108138  11545.897906  11616.229122   \n",
            "Paciente 13  17567.465030  21738.511853  29429.308030  28530.200793   \n",
            "Paciente 14  28551.124065  26204.839254  17383.998956  17244.605933   \n",
            "Paciente 15  21064.909655  17704.075393  18305.622532  22438.444791   \n",
            "Paciente 16  11197.554574  10948.368805  12737.004665  10745.161921   \n",
            "Paciente 17  27648.962740  30316.594962  37591.351773  25811.252034   \n",
            "Paciente 18  32321.272932  37703.798749  42613.972372  29252.410036   \n",
            "Paciente 19  14148.673322  18283.999666  28749.932148  14270.726911   \n",
            "Paciente 20  15966.402868  17617.810248  20804.937129  19654.400017   \n",
            "Paciente 21  45453.734066  42660.225279  44139.445078  50829.933680   \n",
            "Paciente 22  34036.502777  35276.242239  37728.034174  30403.012785   \n",
            "Paciente 23  47166.556798  55107.798641  52286.884667  34682.656928   \n",
            "Paciente 24   9702.573235   8310.599134  11274.177917   7138.981899   \n",
            "Paciente 25   4915.062778   6105.849947   5167.552339   4137.717862   \n",
            "Paciente 26   7053.495371   6483.359552   6733.630592   6466.650688   \n",
            "Paciente 27  13352.558858  12079.042337  12056.752677  13537.102069   \n",
            "Paciente 28  16237.836551  12899.899544  12386.284718  12167.858008   \n",
            "Paciente 29  13180.109317  13925.217812  16218.994223  12324.883659   \n",
            "Paciente 30  44475.710242  68589.716078  77481.958140  79786.695885   \n",
            "Paciente 31  15536.232499  27171.554335  31295.123356  22037.159698   \n",
            "Paciente 32  33100.991142  37083.630148  48210.820005  37758.393155   \n",
            "Paciente 33  35311.301696  34916.686010  38800.429029  35427.031127   \n",
            "Paciente 34  16272.826799  13075.926126  13775.441563  12795.198591   \n",
            "Paciente 35  27406.189072  21049.882057  45082.411879  49492.678794   \n",
            "Paciente 36  23331.449171  21794.167460  20057.059370  18703.362284   \n",
            "\n",
            "                  CANAL 5        CANAL 6        CANAL 7        CANAL 8  \n",
            "Paciente 1    7940.801560   24721.550337   21062.102476   19561.401306  \n",
            "Paciente 2   33079.452791  240835.102634  156030.040579  278095.358270  \n",
            "Paciente 3   11694.967690   33493.547072   32447.412642   35561.860821  \n",
            "Paciente 4   29730.163026   25244.158073   22781.327587   24658.599512  \n",
            "Paciente 5   56824.702656  239662.908728  194882.004020  381633.958654  \n",
            "Paciente 6   10467.879938   46336.873547   45695.801756   50086.361637  \n",
            "Paciente 7    9919.084395   38555.794005   36669.080773   48958.809066  \n",
            "Paciente 8   24337.362553   70116.806192   63509.019508   71891.447386  \n",
            "Paciente 9   18251.804557  148225.533204  123954.279562  139100.707347  \n",
            "Paciente 10  14377.091900    7215.202754   15864.901097   19472.869878  \n",
            "Paciente 11  23351.992649   53086.059766   37495.972475   43067.095504  \n",
            "Paciente 12  18658.417865   42058.456657   34417.780679   46167.748438  \n",
            "Paciente 13  24586.407386   73273.828899   68753.985484   67962.795266  \n",
            "Paciente 14  26206.372422   83370.618408   51121.105722   67852.348256  \n",
            "Paciente 15  22415.119998   43344.591885   36731.812513   45890.820535  \n",
            "Paciente 16  10329.642418   21461.605831   15493.212776   27414.375247  \n",
            "Paciente 17  27832.063483   22108.384942   16607.683515   14131.438919  \n",
            "Paciente 18  26890.856667   68243.618642   52417.921598   72115.850131  \n",
            "Paciente 19  28787.445978   14661.417740   15940.154095   19499.898656  \n",
            "Paciente 20  16678.982063   93894.049009   66862.496275   75685.125872  \n",
            "Paciente 21  59261.694214  253815.983291  214544.090670  247982.671049  \n",
            "Paciente 22  32255.024467  149804.923665  194218.587624  270161.157209  \n",
            "Paciente 23  30606.119338  227045.733387  224891.029478  322172.431642  \n",
            "Paciente 24  10286.070527   16151.490459   15731.296585   20956.719846  \n",
            "Paciente 25   4103.995281   20359.586331   17598.962585   22292.230470  \n",
            "Paciente 26   6707.361817   17285.045612   16605.010744   18350.242393  \n",
            "Paciente 27  13418.269716   38883.704467   37960.013947   37046.836341  \n",
            "Paciente 28  19279.941752   57768.543178   53582.356717   68859.298874  \n",
            "Paciente 29  14060.300659   25767.024864   21935.759622   22827.781293  \n",
            "Paciente 30  70386.435807  345373.334477  215673.993168  298878.557209  \n",
            "Paciente 31  15381.977763   52433.103691   52188.150059   46071.832322  \n",
            "Paciente 32  28343.182930  101170.614692   87824.803410  137143.924875  \n",
            "Paciente 33  35905.472869  106598.128152  106885.575966  112520.750636  \n",
            "Paciente 34  14022.460790   70631.008328   70072.393087   69543.622247  \n",
            "Paciente 35  40225.257438   42301.871711   33188.664449   34157.555662  \n",
            "Paciente 36  21191.204277   91362.046468   60904.241719   53341.328914  \n"
          ]
        }
      ]
    },
    {
      "cell_type": "markdown",
      "source": [
        "**2.2. DataFrame sujetos con parkinson**"
      ],
      "metadata": {
        "id": "eTuzFz4ciklm"
      }
    },
    {
      "cell_type": "code",
      "source": [
        "indices = [f'Paciente {i}' for i in range(1, 24)]\n",
        "\n",
        "df_parkinson = pd.DataFrame(sujetos_parkinson, columns=[f'CANAL {i}' for i in range(1, 9)], index = indices)\n",
        "\n",
        "# Mostrar el DataFrame\n",
        "print(df_parkinson)"
      ],
      "metadata": {
        "id": "cIxKHpafX4Rd",
        "colab": {
          "base_uri": "https://localhost:8080/"
        },
        "outputId": "19340de8-05a5-4dcb-f670-27ff974c4a8b"
      },
      "execution_count": null,
      "outputs": [
        {
          "output_type": "stream",
          "name": "stdout",
          "text": [
            "                  CANAL 1       CANAL 2       CANAL 3       CANAL 4  \\\n",
            "Paciente 1   32188.312555  31159.578900  32352.266891  28810.929111   \n",
            "Paciente 2   38092.102574  43575.379457  41979.994799  41715.287990   \n",
            "Paciente 3    9581.810471  14008.572615   9589.230257   9374.085669   \n",
            "Paciente 4   31133.326257  21899.992984  17153.107641  20533.434338   \n",
            "Paciente 5   16776.577493  20468.685954  25320.621029  24036.472073   \n",
            "Paciente 6   23742.325612  22070.007569  24540.315612  21803.936448   \n",
            "Paciente 7   17699.028112  26643.280393  32468.842059  25561.956895   \n",
            "Paciente 8   16001.606312  13678.099220  16024.473570  14482.116106   \n",
            "Paciente 9   23658.738825  23990.255991  30633.745996  22888.894132   \n",
            "Paciente 10  12157.229828  13398.658526  17668.877657  14841.104693   \n",
            "Paciente 11  12438.243570  11261.175800  10819.634775   9489.784462   \n",
            "Paciente 12  23446.051598  26091.341850  36640.531850  25660.222773   \n",
            "Paciente 13  49937.833324  46030.495239  46746.506684  43109.302338   \n",
            "Paciente 14  17995.660058  12001.601821  12286.344400  14785.908284   \n",
            "Paciente 15  14532.459483  17860.192841  30120.983497  29569.273094   \n",
            "Paciente 16  16202.416566  13124.247855  13988.674335  12752.027365   \n",
            "Paciente 17  48923.874237  64324.769523  85175.914992  78087.225852   \n",
            "Paciente 18  10930.227074  14670.548632  21623.897909  15449.251169   \n",
            "Paciente 19  33900.139101  32395.467750  29194.827407  23439.114082   \n",
            "Paciente 20  29402.195610  31214.592172  30663.970154  24697.341514   \n",
            "Paciente 21  22034.834171  21250.934562  27369.549841  13197.556268   \n",
            "Paciente 22  48574.518921  51806.529769  73171.952374  59707.699631   \n",
            "Paciente 23  10692.948223  10841.187262  12154.390086  24161.685202   \n",
            "\n",
            "                  CANAL 5        CANAL 6        CANAL 7        CANAL 8  \n",
            "Paciente 1   25368.624860   59526.213049   66204.132354   69036.969842  \n",
            "Paciente 2   46513.737045  251649.394709  179345.438488  262361.180410  \n",
            "Paciente 3    8154.941858   28970.848994   40705.897395   36624.858559  \n",
            "Paciente 4   31864.375631   79797.786103   74152.811380   66497.823839  \n",
            "Paciente 5   20723.732743   76391.356727   60599.129053   81585.412935  \n",
            "Paciente 6   22594.339745  128314.264805  128888.485633  152799.284248  \n",
            "Paciente 7   23415.623101   57294.133077   54829.651258   59700.873328  \n",
            "Paciente 8   14723.843472   31443.053250   28191.962386   33117.421322  \n",
            "Paciente 9   19932.315538   65161.432397   60552.834862   58441.048743  \n",
            "Paciente 10  11297.742247   38701.647608   41828.973929   61328.610990  \n",
            "Paciente 11  12091.060945   22798.213463   23700.620349   25606.065340  \n",
            "Paciente 12  31330.549186   93696.128392   67690.908167  111124.343428  \n",
            "Paciente 13  42923.267828  424838.119622  283345.547804  408902.026150  \n",
            "Paciente 14  17058.433161   63983.449318   53715.460772   66403.639479  \n",
            "Paciente 15  30054.971601   22088.181162   18262.518633   18454.068489  \n",
            "Paciente 16  15784.724049   50730.233172   50742.237835   73694.061647  \n",
            "Paciente 17  65792.625436  458631.543464  400266.637762  554127.580214  \n",
            "Paciente 18  13471.035295   28974.383402   31469.428045   32535.921202  \n",
            "Paciente 19  25040.406700  122738.018441  103327.500981  100845.843964  \n",
            "Paciente 20  25296.654765   67961.116232   74866.179511  103522.441839  \n",
            "Paciente 21  18373.335858   85398.723929   59948.779883   72367.809030  \n",
            "Paciente 22  56552.175747  287105.761622  222745.793414  353312.298104  \n",
            "Paciente 23  14789.173543   43302.825848   42560.941845   39043.973220  \n"
          ]
        }
      ]
    },
    {
      "cell_type": "markdown",
      "source": [
        "####**Punto 3**"
      ],
      "metadata": {
        "id": "n0JycsfPitWf"
      }
    },
    {
      "cell_type": "markdown",
      "source": [
        "**3.1 Prueba de normalidad**"
      ],
      "metadata": {
        "id": "ECJsf7D5jKeM"
      }
    },
    {
      "cell_type": "code",
      "source": [
        "print(\"Pacientes sanos: \")\n",
        "for channel in range(sujetos_sanos.shape[1]):\n",
        "  _ , p_value_c = stats.shapiro(df_control[f\"CANAL {channel+1}\"])\n",
        "\n",
        "  print(f'Canal {channel + 1}: p-valor = {p_value_c}')\n",
        "print(\"Pacientes con parkinson: \")\n",
        "for channel in range(sujetos_parkinson.shape[1]):\n",
        "\n",
        "  _ , p_value_p = stats.shapiro(df_parkinson[f\"CANAL {channel+1}\"])\n",
        "  print(f'Canal {channel + 1}: p-valor = {p_value_p}')\n"
      ],
      "metadata": {
        "colab": {
          "base_uri": "https://localhost:8080/"
        },
        "id": "qc_HTM28K19Q",
        "outputId": "9e709080-955d-4ab0-f6d7-47aa88f37725"
      },
      "execution_count": null,
      "outputs": [
        {
          "output_type": "stream",
          "name": "stdout",
          "text": [
            "Pacientes sanos: \n",
            "Canal 1: p-valor = 0.006252582589490706\n",
            "Canal 2: p-valor = 0.003954349672893242\n",
            "Canal 3: p-valor = 0.008902474388641512\n",
            "Canal 4: p-valor = 0.0001969822134533634\n",
            "Canal 5: p-valor = 0.0007995109321301918\n",
            "Canal 6: p-valor = 6.077846333124039e-06\n",
            "Canal 7: p-valor = 4.219023053060484e-06\n",
            "Canal 8: p-valor = 5.307787994214454e-07\n",
            "Pacientes con parkinson: \n",
            "Canal 1: p-valor = 0.014391748809352617\n",
            "Canal 2: p-valor = 0.004522125702176784\n",
            "Canal 3: p-valor = 0.0009095814679302061\n",
            "Canal 4: p-valor = 0.00031213125786319976\n",
            "Canal 5: p-valor = 0.005322990592932188\n",
            "Canal 6: p-valor = 9.814695111014217e-06\n",
            "Canal 7: p-valor = 1.6702065098807567e-05\n",
            "Canal 8: p-valor = 8.98335963166538e-06\n"
          ]
        }
      ]
    },
    {
      "cell_type": "markdown",
      "source": [
        "Como todos los p-valor < 0.05, entonces los canales no tienen una distribución normal, por lo tanto se realiza una transformación de potencia"
      ],
      "metadata": {
        "id": "DsJPfyh7pxww"
      }
    },
    {
      "cell_type": "markdown",
      "source": [
        "**3.2 Transformación de potencia**"
      ],
      "metadata": {
        "id": "pbFptE5DvP7p"
      }
    },
    {
      "cell_type": "code",
      "source": [
        "print(\"Pacientes sanos: \")\n",
        "for channel in range(sujetos_sanos.shape[1]):\n",
        "  _ , p_value_c = stats.shapiro(df_control[f\"CANAL {channel+1}\"])\n",
        "  _, lambd = stats.boxcox(df_control[f\"CANAL {channel+1}\"])\n",
        "  dataC_t = np.power(df_control[f\"CANAL {channel+1}\"],lambd)\n",
        "  _ , p_value_c = stats.shapiro(dataC_t)\n",
        "  print(f'Canal {channel + 1}: p-valor = {p_value_c}')\n",
        "\n",
        "print(\"Pacientes con parkinson: \")\n",
        "\n",
        "for channel in range(sujetos_parkinson.shape[1]):\n",
        "\n",
        "  _ , p_value_p = stats.shapiro(df_parkinson[f\"CANAL {channel+1}\"])\n",
        "  _, lambd = stats.boxcox(df_control[f\"CANAL {channel+1}\"])\n",
        "  dataP_t = np.power(df_parkinson[f\"CANAL {channel+1}\"],lambd)\n",
        "  _ , p_value_p = stats.shapiro(dataP_t)\n",
        "  print(f'Canal {channel + 1}: p-valor = {p_value_p}')\n"
      ],
      "metadata": {
        "colab": {
          "base_uri": "https://localhost:8080/"
        },
        "id": "bG3pDlQyaEdP",
        "outputId": "f43ad235-993d-4138-ddca-cecc57ee4654"
      },
      "execution_count": null,
      "outputs": [
        {
          "output_type": "stream",
          "name": "stdout",
          "text": [
            "Pacientes sanos: \n",
            "Canal 1: p-valor = 0.7849616368831711\n",
            "Canal 2: p-valor = 0.9725918052978407\n",
            "Canal 3: p-valor = 0.9063327697303474\n",
            "Canal 4: p-valor = 0.9370552201659279\n",
            "Canal 5: p-valor = 0.952953013475456\n",
            "Canal 6: p-valor = 0.8201467238745608\n",
            "Canal 7: p-valor = 0.03896767347421371\n",
            "Canal 8: p-valor = 0.15713231182634368\n",
            "Pacientes con parkinson: \n",
            "Canal 1: p-valor = 0.31227423274843585\n",
            "Canal 2: p-valor = 0.2506933346206437\n",
            "Canal 3: p-valor = 0.2373000221326787\n",
            "Canal 4: p-valor = 0.29234614809313075\n",
            "Canal 5: p-valor = 0.8135943192316255\n",
            "Canal 6: p-valor = 0.1620916511546877\n",
            "Canal 7: p-valor = 0.7431579170705884\n",
            "Canal 8: p-valor = 0.7079847314442833\n"
          ]
        }
      ]
    },
    {
      "cell_type": "markdown",
      "source": [
        " Con la tranformación de potencia casi todos los p-valor > 0.05, entonces los canales tienen una distribución normal, a excepcion del canal 7 que el p-valor < 0.05 por lo tanto no distribuye normal"
      ],
      "metadata": {
        "id": "_Y225VCEvcdN"
      }
    },
    {
      "cell_type": "markdown",
      "source": [
        "Son dos grupos **independientes** fisica y temporalmente, por que al ser distintos sujetos el grupo uno y dos, no dependen entre ellos."
      ],
      "metadata": {
        "id": "zR8HQMtExSYS"
      }
    },
    {
      "cell_type": "markdown",
      "source": [
        "**3.3 Prueba de homocedasticidad**"
      ],
      "metadata": {
        "id": "2FVrMgcYwLlQ"
      }
    },
    {
      "cell_type": "code",
      "source": [
        "print(\"Homocedasticidad: \")\n",
        "for channel in range(sujetos_sanos.shape[1]):\n",
        "  _ , p_value_c = stats.shapiro(df_control[f\"CANAL {channel+1}\"])\n",
        "  _, lambd = stats.boxcox(df_control[f\"CANAL {channel+1}\"])\n",
        "  dataC_t = np.power(df_control[f\"CANAL {channel+1}\"],lambd)\n",
        "  dataP_t = np.power(df_parkinson[f\"CANAL {channel+1}\"],lambd)\n",
        "  _, p_value = stats.levene(dataC_t, dataP_t)\n",
        "  print(f'Canal {channel + 1}: p-valor = {p_value}')"
      ],
      "metadata": {
        "colab": {
          "base_uri": "https://localhost:8080/"
        },
        "id": "mun-ezENc06B",
        "outputId": "49fd3f45-a9c8-4d72-d99d-ac645bf3c7d0"
      },
      "execution_count": null,
      "outputs": [
        {
          "output_type": "stream",
          "name": "stdout",
          "text": [
            "Homocedasticidad: \n",
            "Canal 1: p-valor = 0.6919807485893112\n",
            "Canal 2: p-valor = 0.5410241196731045\n",
            "Canal 3: p-valor = 0.4754784619101172\n",
            "Canal 4: p-valor = 0.2065165033327758\n",
            "Canal 5: p-valor = 0.4768066396218372\n",
            "Canal 6: p-valor = 0.48875094691619936\n",
            "Canal 7: p-valor = 0.15162533304379144\n",
            "Canal 8: p-valor = 0.26044049633378813\n"
          ]
        }
      ]
    },
    {
      "cell_type": "markdown",
      "source": [
        "Como los p-valor > 0.05, se aprueba la hipotesis nula lo que quiere decir que los canales de los dos grupos presentan varianza constante (homocedasticidad)\n",
        "\n",
        "---\n",
        "Como los tres supuestos se cumplen para todos los canales excepto el siete, se puede realizar el t-test\n"
      ],
      "metadata": {
        "id": "prKbiirBwYDF"
      }
    },
    {
      "cell_type": "markdown",
      "source": [
        "**3.4 T-Test**"
      ],
      "metadata": {
        "id": "VeLpv2QFxHVU"
      }
    },
    {
      "cell_type": "code",
      "source": [
        "print(\"ttest: \")\n",
        "for channel in range(sujetos_sanos.shape[1]):\n",
        "  _ , p_value_c = stats.shapiro(df_control[f\"CANAL {channel+1}\"])\n",
        "  _, lambd = stats.boxcox(df_control[f\"CANAL {channel+1}\"])\n",
        "  dataC_t = np.power(df_control[f\"CANAL {channel+1}\"],lambd)\n",
        "  dataP_t = np.power(df_parkinson[f\"CANAL {channel+1}\"],lambd)\n",
        "  _,p_value = stats.ttest_ind(dataC_t, dataP_t)\n",
        "  print(f'Canal {channel + 1}: p-valor = {p_value}')"
      ],
      "metadata": {
        "colab": {
          "base_uri": "https://localhost:8080/"
        },
        "id": "PFqHbM8UdOKQ",
        "outputId": "4e21c6fb-8e79-4f14-c65d-f33bbc7cb2f8"
      },
      "execution_count": null,
      "outputs": [
        {
          "output_type": "stream",
          "name": "stdout",
          "text": [
            "ttest: \n",
            "Canal 1: p-valor = 0.3902377971718306\n",
            "Canal 2: p-valor = 0.5283145184831773\n",
            "Canal 3: p-valor = 0.3505301338618073\n",
            "Canal 4: p-valor = 0.2542275712368148\n",
            "Canal 5: p-valor = 0.4702661673839331\n",
            "Canal 6: p-valor = 0.2209791648072732\n",
            "Canal 7: p-valor = 0.11564189329801484\n",
            "Canal 8: p-valor = 0.14720089752715676\n"
          ]
        }
      ]
    },
    {
      "cell_type": "markdown",
      "source": [
        "Como los p-valor > 0.05, las poblaciones no tienen una diferencia estadisticamente significativa, es decir el promedio de la energia en los canales, no es significativamente diferente entre las poblaciones de sujetos sanos y con parkinson."
      ],
      "metadata": {
        "id": "kyY1Vw0WykDW"
      }
    },
    {
      "cell_type": "markdown",
      "source": [
        "**3.5 prueba U de man Whitney**"
      ],
      "metadata": {
        "id": "JjveYxFumu_u"
      }
    },
    {
      "cell_type": "markdown",
      "source": [
        "Para el canal 7 se realiza la prueba \"U de man Whitney\" ya que no cumplió los tres supuestos de las pruebas paramétricas."
      ],
      "metadata": {
        "id": "DJyh6t5-m5l4"
      }
    },
    {
      "cell_type": "code",
      "source": [
        "from scipy.stats import mannwhitneyu\n",
        "c_7_sanos= df_control[\"CANAL 7\"]\n",
        "c_7_parkinson= df_parkinson[\"CANAL 7\"]\n",
        "statistic , p_value = mannwhitneyu(c_7_sanos, c_7_parkinson)\n",
        "print(p_value)"
      ],
      "metadata": {
        "colab": {
          "base_uri": "https://localhost:8080/"
        },
        "id": "YXcKIpPhnMRu",
        "outputId": "24620454-8e50-4579-baa8-8fc4257d48b6"
      },
      "execution_count": null,
      "outputs": [
        {
          "output_type": "stream",
          "name": "stdout",
          "text": [
            "0.11830081572892007\n"
          ]
        }
      ]
    },
    {
      "cell_type": "markdown",
      "source": [
        "Como el p-value > 0.05, se afirma que igualmente las señales de pacientes sanos y pacientes con parkinson no tienen una diferencia estadisticamente significativa en el canal 7"
      ],
      "metadata": {
        "id": "I7chKX56p8vB"
      }
    },
    {
      "cell_type": "markdown",
      "source": [
        "\n",
        "#### **Conclusión**"
      ],
      "metadata": {
        "id": "2H_WYYT41R61"
      }
    },
    {
      "cell_type": "markdown",
      "source": [
        "Para este caso es valido afirmar, que el promedio de energias de los canales no es diferente entre las poblaciones.\n",
        "\n",
        "Por lo que es posible que en esa region cerebral no haya afectación por la enfermedad en relación a la energía.\n",
        "\n",
        "Sin embargo, no puede decirse que no hay diferencia en las señales, solo en la metrica analizada (energia)."
      ],
      "metadata": {
        "id": "kT7fua3Vy8VH"
      }
    },
    {
      "cell_type": "markdown",
      "source": [
        "#### **Referencia**\n",
        "\n",
        "\n",
        "[Video- Analisis estadistico de señales](https://udeaeduco-my.sharepoint.com/:v:/r/personal/fjose_campuzano_udea_edu_co/Documents/C%C3%A1tedra/Biose%C3%B1ales/Aula%20Semilla/Videos%20Aula%20Semilla/An%C3%A1lisis%20estad%C3%ADstico%20de%20se%C3%B1ales%20(video%20nuevo)/Presentaci%C3%B3n.mp4?csf=1&web=1&e=tKLycK)\n"
      ],
      "metadata": {
        "id": "aPLnXbt61kKy"
      }
    }
  ],
  "metadata": {
    "colab": {
      "provenance": []
    },
    "kernelspec": {
      "display_name": "Python 3",
      "language": "python",
      "name": "python3"
    },
    "language_info": {
      "codemirror_mode": {
        "name": "ipython",
        "version": 3
      },
      "file_extension": ".py",
      "mimetype": "text/x-python",
      "name": "python",
      "nbconvert_exporter": "python",
      "pygments_lexer": "ipython3",
      "version": "3.8.8"
    }
  },
  "nbformat": 4,
  "nbformat_minor": 0
}